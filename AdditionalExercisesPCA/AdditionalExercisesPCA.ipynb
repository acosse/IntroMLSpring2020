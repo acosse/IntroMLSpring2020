{
 "cells": [
  {
   "cell_type": "markdown",
   "metadata": {},
   "source": [
    "### Additional exercises on PCA, ICA and FA"
   ]
  },
  {
   "cell_type": "markdown",
   "metadata": {},
   "source": [
    "### Question 1. Principal Component Analysis\n"
   ]
  },
  {
   "cell_type": "markdown",
   "metadata": {},
   "source": [
    "#### Question 1.1. Projections and errors \n",
    "\n",
    "For the data given below. Compute the projection of the data onto the plane as well as the error of the projection (use the projection onto the orthogonal complement)"
   ]
  },
  {
   "cell_type": "code",
   "execution_count": null,
   "metadata": {
    "collapsed": true
   },
   "outputs": [],
   "source": [
    "import numpy as np\n",
    "import scipy.io as sio\n",
    "from mpl_toolkits.mplot3d import Axes3D \n",
    "import matplotlib.pyplot as plt\n",
    "\n",
    "data = sio.loadmat('dataSupplementPCA.mat')\n",
    "\n",
    "data_z = 3*data[:,0] + 2*data[:,1] + 1\n",
    "data_z = data_z + np.random.normal(0, 0.1, np.shape(data_z))\n",
    "\n",
    "fig = plt.figure()\n",
    "ax = fig.add_subplot(111, projection='3d')\n",
    "ax.scatter(data[:,0], data[:,1], data_z, marker=m)\n",
    "plt.show()\n",
    "\n"
   ]
  },
  {
   "cell_type": "markdown",
   "metadata": {},
   "source": [
    "#### Question 1.2. PCA for Magnetic resonance imaging\n",
    "\n",
    "Load the file 'ds114_sub009_t2r1' from the [following link](https://github.com/matthew-brett/consden/blob/master/ds114_sub009_t2r1.nii). This file contains a sequence of volumetric images. display a couple of slices from the volumes. What do the volume represent ?"
   ]
  },
  {
   "cell_type": "code",
   "execution_count": null,
   "metadata": {
    "collapsed": true
   },
   "outputs": [],
   "source": [
    "import nibabel as nib\n",
    "img = nib.load('ds114_sub009_t2r1.nii')\n",
    "data = img.get_data()\n",
    "data.shape"
   ]
  },
  {
   "cell_type": "markdown",
   "metadata": {},
   "source": [
    "The data contains a (time) sequence of 3D images. There are 173 time samples. In this exercise, we will see the 3D pixel elements (voxels) as our samples. Each voxel is thus represented by a sequence of 173 time values encoding how this voxel evolves through time."
   ]
  },
  {
   "cell_type": "markdown",
   "metadata": {},
   "source": [
    "#### Question 1.2.1 Centering\n",
    "\n",
    "Start by centering the voxel by subtracting their means"
   ]
  },
  {
   "cell_type": "code",
   "execution_count": null,
   "metadata": {
    "collapsed": true
   },
   "outputs": [],
   "source": []
  },
  {
   "cell_type": "markdown",
   "metadata": {},
   "source": [
    "#### Question 1.2.2 Principal component Analysis\n",
    "\n",
    "Compute the principal components of the centered data and display their corresponding time evolution"
   ]
  },
  {
   "cell_type": "code",
   "execution_count": null,
   "metadata": {
    "collapsed": true
   },
   "outputs": [],
   "source": []
  },
  {
   "cell_type": "markdown",
   "metadata": {},
   "source": [
    "#### Question 1.2.3 Interpreting the components\n",
    "\n",
    "Compute the projection of the volume (i.e. the collection of voxels) onto the components 1 to 4 and display the resulting images (central slice). Recall that the projection of a voxel onto a particular component will have a large value if the evolution of that voxel through time is best captured by that component."
   ]
  },
  {
   "cell_type": "code",
   "execution_count": null,
   "metadata": {
    "collapsed": true
   },
   "outputs": [],
   "source": []
  },
  {
   "cell_type": "markdown",
   "metadata": {},
   "source": [
    "#### Question 1.2.4 Extended use\n",
    "In your opinion, what could those components be used for ?"
   ]
  },
  {
   "cell_type": "code",
   "execution_count": null,
   "metadata": {
    "collapsed": true
   },
   "outputs": [],
   "source": []
  },
  {
   "cell_type": "markdown",
   "metadata": {},
   "source": [
    "### Question 2. Independent Component Analysis "
   ]
  },
  {
   "cell_type": "markdown",
   "metadata": {},
   "source": [
    "#### Question 2.1. Independent Component Analysis from scratch"
   ]
  },
  {
   "cell_type": "markdown",
   "metadata": {},
   "source": [
    "We consider a model of the form \n",
    "\n",
    "$$\\mathbf{x} = \\mathbf{M}\\mathbf{s}$$\n",
    "\n",
    "where $\\mathbf{s}$ are independent sources (such as the recordings we used in the coktail party exercise). We want to recover the unmixing matrix $\\mathbf{U} = \\mathbf{M}^{-1}$ such that the sources can then be obtained via $\\tilde{\\mathbf{s}} = \\mathbf{M}\\mathbf{x}$. \n",
    "\n",
    "How do we recover $\\mathbf{U}$ then ?\n",
    "\n",
    "For a random variable $s$ withe density $p_s(s)$, the density of $\\mathbf{x} = \\mathbf{M}\\mathbf{s}$ can be obtained as ($|\\mathbf{U}|$ here denotes the absolute value of the determinant of the matrix $\\mathbf{U}$).  \n",
    "\n",
    "$$p_x(x) = p_s(\\mathbf{U}\\mathbf{x})|\\mathbf{U}| (*)$$\n",
    "\n",
    "in order to recover the $\\mathbf{s}$ from the mixing $\\mathbf{M}\\mathbf{s}$, we will proceed as usual and write down the joint density. Since we assumed that the sources are independent (we further assume that they are equally distributed), we can write  \n",
    "\n",
    "$$p(s) = \\prod_{i=1}^{|S|} p_s(s_i)$$\n",
    "\n",
    "\n",
    "now using the relation $(*)$, we can use this density to get the density for $\\mathbf{x}_i$, \n",
    "\n",
    "$$p(x) = \\prod_{i=1}^{|S|} p_s(\\mathbf{u}^T_i\\mathbf{x})|\\mathbf{U}|$$\n",
    "\n",
    "where $\\mathbf{u}_i$ is the $i^{th}$ row of the unmixing matrix $\\mathbf{U}$. As for other learning problems, we can (1) assume that all the prototypes are independent, and hence write the total density as \n",
    "\n",
    "$$p(\\left\\{\\mathbf{x}^{(i)}\\right\\}) = \\prod_{j=1}^{N}\\prod_{i=1}^{|S|} p_s(\\mathbf{u}^T_i\\mathbf{x}^{(j)})|\\mathbf{U}|$$\n",
    "\n",
    "the log of the probability density which gives \n",
    "\n",
    "$$\\ell(\\mathbf{U}) = \\sum_{i=1}^{|S|} \\sum_{j=1}^N \\log p_s(\\mathbf{u}_i^T\\mathbf{x}^{(j)}) + \\log(|\\mathbf{U}|)$$\n",
    "\n",
    "\n",
    "In order to recover the $\\mathbf{U}$, we want to maximize the log likelihood. However, we are facing a last difficulty: how do we define the density $p_s$ ?\n",
    "\n",
    "a probability density function $p(x)$ can be obtained as the derivative of the cumulative distribution function $F(X) = \\int_{0}^X p(x)\\; dx$ (which encodes the probability that the random variable takes values smaller then $X$). When no information is given, a common approach to define this density is by taking the function \n",
    " \n",
    "$$p_s(s) = (1-\\text{tanh}(s))^2$$\n",
    "\n",
    "Using this function as well as $\\nabla_{\\mathbf{U}}|\\mathbf{U}| = |\\mathbf{U}|(\\mathbf{U}^{-1})^{T}$, recover the sources for the data below using gradient ascent."
   ]
  },
  {
   "cell_type": "code",
   "execution_count": 17,
   "metadata": {},
   "outputs": [
    {
     "data": {
      "image/png": "[encoded data removed]",
      "text/plain": [
       "<Figure size 432x288 with 1 Axes>"
      ]
     },
     "metadata": {},
     "output_type": "display_data"
    }
   ],
   "source": [
    "import numpy as np\n",
    "import matplotlib.pyplot as plt\n",
    "from __future__ import division\n",
    "\n",
    "from sklearn.decomposition import PCA, FastICA\n",
    "\n",
    "rng = np.random.RandomState(42)\n",
    "S = rng.standard_t(1.5, size=(20000, 2))\n",
    "S[:, 0] *= 2.\n",
    "\n",
    "# Mix data\n",
    "A = np.array([[1, 1], [0, 2]])  # Mixing matrix\n",
    "\n",
    "X = np.dot(S, A.T)  # Generate observations\n",
    "\n",
    "np.shape(X)\n",
    "plt.scatter(X[:,0]/X.std(), X[:,1]/X.std(), alpha = 0.5)\n",
    "plt.xlim(-3, 3)\n",
    "plt.ylim(-3, 3)\n",
    "plt.show()\n"
   ]
  },
  {
   "cell_type": "code",
   "execution_count": null,
   "metadata": {
    "collapsed": true
   },
   "outputs": [],
   "source": [
    "def MLE_ICA(X, learning_rate):\n",
    "'''The function should return the unmixing matrix U from the mixed signals stored in X'''    \n",
    "    \n",
    "    \n",
    "    \n",
    "    return U\n",
    "\n",
    "\n",
    "\n",
    "\n"
   ]
  },
  {
   "cell_type": "markdown",
   "metadata": {},
   "source": [
    "#### Question 2.2. Comparing ICA to PCA\n",
    "\n",
    "Once you are done with the ICA reconstruction. Extract the principal direction form the same dataset and represent the points in the space generated form those directions. Compare the result with ICA. "
   ]
  },
  {
   "cell_type": "code",
   "execution_count": null,
   "metadata": {
    "collapsed": true
   },
   "outputs": [],
   "source": []
  }
 ],
 "metadata": {
  "kernelspec": {
   "display_name": "Python 2",
   "language": "python",
   "name": "python2"
  },
  "language_info": {
   "codemirror_mode": {
    "name": "ipython",
    "version": 2
   },
   "file_extension": ".py",
   "mimetype": "text/x-python",
   "name": "python",
   "nbconvert_exporter": "python",
   "pygments_lexer": "ipython2",
   "version": "2.7.13"
  }
 },
 "nbformat": 4,
 "nbformat_minor": 2
}
